{
 "cells": [
  {
   "cell_type": "code",
   "execution_count": 1,
   "id": "64563ee9",
   "metadata": {},
   "outputs": [
    {
     "name": "stdout",
     "output_type": "stream",
     "text": [
      "Jupyter environment detected. Enabling Open3D WebVisualizer.\n",
      "[Open3D INFO] WebRTC GUI backend enabled.\n",
      "[Open3D INFO] WebRTCWindowSystem: HTTP handshake server disabled.\n",
      "PointCloud with 128100105 points.\n"
     ]
    }
   ],
   "source": [
    "import open3d as o3d\n",
    "\n",
    "pcd = o3d.io.read_point_cloud(\"Data/road scan 20220209/road scan 20220209 raw.pts\")\n",
    "print(pcd)"
   ]
  },
  {
   "cell_type": "code",
   "execution_count": 10,
   "id": "71820149",
   "metadata": {},
   "outputs": [
    {
     "name": "stdout",
     "output_type": "stream",
     "text": [
      "PointCloud with 20019221 points.\n"
     ]
    }
   ],
   "source": [
    "cropped = o3d.io.read_point_cloud(\"Data/road scan 20220209/road scan 20220209 cropped.pts\")\n",
    "print(cropped)"
   ]
  },
  {
   "cell_type": "code",
   "execution_count": 7,
   "id": "4f123d11",
   "metadata": {},
   "outputs": [
    {
     "name": "stdout",
     "output_type": "stream",
     "text": [
      "[Open3D WARNING] GLFW Error: WGL: Failed to make context current: 句柄无效。 \n"
     ]
    }
   ],
   "source": [
    "o3d.visualization.draw_geometries([cropped],\n",
    "                                  zoom=0.3412,\n",
    "                                  front=[0.4257, -0.2125, -0.8795],\n",
    "                                  lookat=[2.6172, 2.0475, 1.532],\n",
    "                                  up=[-0.0694, -0.9768, 0.2024])"
   ]
  },
  {
   "cell_type": "code",
   "execution_count": 8,
   "id": "60c894f2",
   "metadata": {},
   "outputs": [],
   "source": [
    "def display_inlier_outlier(cloud, ind):\n",
    "    inlier_cloud = cloud.select_by_index(ind)\n",
    "    outlier_cloud = cloud.select_by_index(ind, invert=True)\n",
    "\n",
    "    print(\"Showing outliers (red) and inliers: \")\n",
    "    outlier_cloud.paint_uniform_color([1, 0, 0])\n",
    "    # inlier_cloud.paint_uniform_color([0.8, 0.8, 0.8])\n",
    "    o3d.visualization.draw_geometries([inlier_cloud, outlier_cloud],\n",
    "                                      zoom=0.3412,\n",
    "                                      front=[0.4257, -0.2125, -0.8795],\n",
    "                                      lookat=[2.6172, 2.0475, 1.532],\n",
    "                                      up=[-0.0694, -0.9768, 0.2024])"
   ]
  },
  {
   "cell_type": "code",
   "execution_count": 11,
   "id": "2003a1ae",
   "metadata": {},
   "outputs": [
    {
     "name": "stdout",
     "output_type": "stream",
     "text": [
      "Showing outliers (red) and inliers: \n",
      "[Open3D WARNING] GLFW Error: WGL: Failed to make context current: 不支持请求的转换操作。 \n"
     ]
    }
   ],
   "source": [
    "cl, ind = cropped.remove_statistical_outlier(nb_neighbors=20, std_ratio=2.0)\n",
    "display_inlier_outlier(cropped, ind)"
   ]
  },
  {
   "cell_type": "code",
   "execution_count": null,
   "id": "f908da44",
   "metadata": {},
   "outputs": [],
   "source": [
    "cl, ind = cropped.remove_radius_outlier(nb_points=20, radius=0.1)\n",
    "display_inlier_outlier(cropped, ind)"
   ]
  },
  {
   "cell_type": "code",
   "execution_count": 12,
   "id": "18bef315",
   "metadata": {},
   "outputs": [
    {
     "name": "stdout",
     "output_type": "stream",
     "text": [
      "Plane equation: 0.01x + 0.01y + 1.00z + 1.72 = 0\n",
      "[Open3D WARNING] GLFW Error: WGL: Failed to make context current: 不支持请求的转换操作。 \n",
      "[Open3D WARNING] GLFW Error: WGL: Failed to make context current: 句柄无效。 \n"
     ]
    }
   ],
   "source": [
    "plane_model, inliers = cropped.segment_plane(distance_threshold=0.1,\n",
    "                                             ransac_n=3,\n",
    "                                             num_iterations=1000)\n",
    "[a, b, c, d] = plane_model\n",
    "print(f\"Plane equation: {a:.2f}x + {b:.2f}y + {c:.2f}z + {d:.2f} = 0\")\n",
    "\n",
    "inlier_cloud = cropped.select_by_index(inliers)\n",
    "outlier_cloud = cropped.select_by_index(inliers, invert=True)\n",
    "outlier_cloud.paint_uniform_color([1.0, 0, 0])\n",
    "o3d.visualization.draw_geometries([inlier_cloud, outlier_cloud],\n",
    "                                  zoom=0.8,\n",
    "                                  front=[-0.4999, -0.1659, -0.8499],\n",
    "                                  lookat=[2.1813, 2.0619, 2.0999],\n",
    "                                  up=[0.1204, -0.9852, 0.1215])"
   ]
  },
  {
   "cell_type": "code",
   "execution_count": 13,
   "id": "ee4997cb",
   "metadata": {},
   "outputs": [],
   "source": [
    "further_cropped = inlier_cloud"
   ]
  },
  {
   "cell_type": "code",
   "execution_count": 14,
   "id": "1394487c",
   "metadata": {},
   "outputs": [
    {
     "name": "stdout",
     "output_type": "stream",
     "text": [
      "Plane equation: 0.00x + 0.00y + 1.00z + 1.72 = 0\n",
      "[Open3D WARNING] GLFW Error: WGL: Failed to make context current: 不支持请求的转换操作。 \n"
     ]
    }
   ],
   "source": [
    "plane_model, inliers = further_cropped.segment_plane(distance_threshold=0.05,\n",
    "                                                     ransac_n=3,\n",
    "                                                     num_iterations=1000)\n",
    "[a, b, c, d] = plane_model\n",
    "print(f\"Plane equation: {a:.2f}x + {b:.2f}y + {c:.2f}z + {d:.2f} = 0\")\n",
    "\n",
    "inlier_cloud = further_cropped.select_by_index(inliers)\n",
    "outlier_cloud = further_cropped.select_by_index(inliers, invert=True)\n",
    "outlier_cloud.paint_uniform_color([1.0, 0, 0])\n",
    "o3d.visualization.draw_geometries([inlier_cloud, outlier_cloud],\n",
    "                                  zoom=0.8,\n",
    "                                  front=[-0.4999, -0.1659, -0.8499],\n",
    "                                  lookat=[2.1813, 2.0619, 2.0999],\n",
    "                                  up=[0.1204, -0.9852, 0.1215])"
   ]
  },
  {
   "cell_type": "code",
   "execution_count": 18,
   "id": "06f3c826",
   "metadata": {},
   "outputs": [
    {
     "name": "stdout",
     "output_type": "stream",
     "text": [
      "PointCloud with 14467877 points.\n"
     ]
    }
   ],
   "source": [
    "cropped_unfinished = o3d.io.read_point_cloud(\"Data/road scan 20220209/road scan 20220209 cropped (unfinished).pts\")\n",
    "print(cropped_unfinished)"
   ]
  },
  {
   "cell_type": "code",
   "execution_count": 19,
   "id": "61f310ad",
   "metadata": {},
   "outputs": [
    {
     "name": "stdout",
     "output_type": "stream",
     "text": [
      "Showing outliers (red) and inliers (gray): \n",
      "[Open3D WARNING] GLFW Error: WGL: Failed to make context current: 句柄无效。 \n"
     ]
    }
   ],
   "source": [
    "cl, ind = cropped_unfinished.remove_statistical_outlier(nb_neighbors=20, std_ratio=2.0)\n",
    "display_inlier_outlier(cropped_unfinished, ind)"
   ]
  },
  {
   "cell_type": "code",
   "execution_count": 20,
   "id": "0ea1c026",
   "metadata": {},
   "outputs": [],
   "source": [
    "cropped_unfinished_1 = cropped_unfinished.select_by_index(ind)"
   ]
  },
  {
   "cell_type": "code",
   "execution_count": 21,
   "id": "a3bfa889",
   "metadata": {},
   "outputs": [
    {
     "name": "stdout",
     "output_type": "stream",
     "text": [
      "[Open3D WARNING] GLFW Error: WGL: Failed to make context current: 句柄无效。 \n",
      "[Open3D WARNING] GLFW Error: WGL: Failed to make context current: 句柄无效。 \n"
     ]
    }
   ],
   "source": [
    "o3d.visualization.draw_geometries([cropped_unfinished_1],\n",
    "                                  zoom=0.3412,\n",
    "                                  front=[0.4257, -0.2125, -0.8795],\n",
    "                                  lookat=[2.6172, 2.0475, 1.532],\n",
    "                                  up=[-0.0694, -0.9768, 0.2024])"
   ]
  },
  {
   "cell_type": "code",
   "execution_count": 22,
   "id": "09205c20",
   "metadata": {},
   "outputs": [
    {
     "name": "stdout",
     "output_type": "stream",
     "text": [
      "Plane equation: 0.00x + 0.00y + 1.00z + -0.04 = 0\n",
      "[Open3D WARNING] [ViewControl] SetViewPoint() failed because window height and width are not set.\n",
      "[Open3D WARNING] [ViewControl] SetViewPoint() failed because window height and width are not set.\n",
      "[Open3D WARNING] [ViewControl] SetViewPoint() failed because window height and width are not set.\n",
      "[Open3D WARNING] [ViewControl] SetViewPoint() failed because window height and width are not set.\n",
      "[Open3D WARNING] [ViewControl] SetViewPoint() failed because window height and width are not set.\n",
      "[Open3D WARNING] [ViewControl] SetViewPoint() failed because window height and width are not set.\n",
      "[Open3D WARNING] [ViewControl] SetViewPoint() failed because window height and width are not set.\n",
      "[Open3D WARNING] [ViewControl] SetViewPoint() failed because window height and width are not set.\n",
      "[Open3D WARNING] [ViewControl] SetViewPoint() failed because window height and width are not set.\n"
     ]
    }
   ],
   "source": [
    "plane_model, inliers = cropped_unfinished_1.segment_plane(distance_threshold=0.05, ransac_n=3, num_iterations=1000)\n",
    "[a, b, c, d] = plane_model\n",
    "print(f\"Plane equation: {a:.2f}x + {b:.2f}y + {c:.2f}z + {d:.2f} = 0\")\n",
    "\n",
    "inlier_cloud = cropped_unfinished_1.select_by_index(inliers)\n",
    "outlier_cloud = cropped_unfinished_1.select_by_index(inliers, invert=True)\n",
    "outlier_cloud.paint_uniform_color([1.0, 0, 0])\n",
    "o3d.visualization.draw_geometries([inlier_cloud, outlier_cloud],\n",
    "                                  zoom=0.8,\n",
    "                                  front=[-0.4999, -0.1659, -0.8499],\n",
    "                                  lookat=[2.1813, 2.0619, 2.0999],\n",
    "                                  up=[0.1204, -0.9852, 0.1215])"
   ]
  },
  {
   "cell_type": "code",
   "execution_count": 8,
   "id": "a8983b4c",
   "metadata": {},
   "outputs": [
    {
     "name": "stdout",
     "output_type": "stream",
     "text": [
      "[[ 4.549565 -4.268276 -0.041502]\n",
      " [ 4.234519 -4.127534 -0.0297  ]\n",
      " [ 4.984956 -4.271745 -0.044693]\n",
      " ...\n",
      " [ 4.814621  6.357383 -0.014563]\n",
      " [ 4.927264  6.014793 -0.027133]\n",
      " [ 5.193063  6.330411 -0.052023]]\n"
     ]
    }
   ],
   "source": [
    "import open3d as o3d\n",
    "import numpy as np\n",
    "\n",
    "# Load saved point cloud and visualize it\n",
    "pcd_load = o3d.io.read_point_cloud(\"Data/road scan 20220209/road scan 20220209 cropped - part 1.pts\")\n",
    "\n",
    "# Convert Open3D.o3d.geometry.PointCloud to numpy array\n",
    "xyz_load = np.asarray(pcd_load.points)\n",
    "print(xyz_load)"
   ]
  },
  {
   "cell_type": "code",
   "execution_count": 9,
   "id": "0c2e3945",
   "metadata": {},
   "outputs": [
    {
     "name": "stdout",
     "output_type": "stream",
     "text": [
      "PointCloud with 1685861 points.\n",
      "5.219596 0.472537\n",
      "10.026744 -4.711235\n",
      "0.058002 -0.074029\n"
     ]
    }
   ],
   "source": [
    "print(pcd_load)\n",
    "print(np.max(xyz_load[:,0]), np.min(xyz_load[:,0]))\n",
    "print(np.max(xyz_load[:,1]), np.min(xyz_load[:,1]))\n",
    "print(np.max(xyz_load[:,2]), np.min(xyz_load[:,2]))"
   ]
  },
  {
   "cell_type": "code",
   "execution_count": 27,
   "id": "1b42483c",
   "metadata": {},
   "outputs": [],
   "source": [
    "import math\n",
    "\n",
    "height_map = np.zeros((476, 4251))\n",
    "num_points = np.zeros((476, 4251))\n",
    "\n",
    "for point in xyz_load:\n",
    "    x_coor = math.floor(point[0]*100) - 46\n",
    "    y_coor = math.floor(point[1]*100) + 472\n",
    "    if num_points[x_coor][y_coor] == 0:\n",
    "        height_map[x_coor][y_coor] = point[2]\n",
    "        num_points[x_coor][y_coor] = 1\n",
    "    else:\n",
    "        height_map[x_coor][y_coor] = ((height_map[x_coor][y_coor]*num_points[x_coor][y_coor]) + point[2])/(num_points[x_coor][y_coor]+1)\n",
    "        num_points[x_coor][y_coor] += 1\n",
    "\n",
    "for x in range(1,475):\n",
    "    for y in range(1,4250):\n",
    "        if num_points[x][y] == 0:\n",
    "            height_map[x][y] = (height_map[x-1][y-1]*np.sign(num_points[x-1][y-1])+height_map[x][y-1]*np.sign(num_points[x][y-1])+height_map[x+1][y-1]*np.sign(num_points[x+1][y-1])+height_map[x-1][y]*np.sign(num_points[x-1][y])+height_map[x+1][y]*np.sign(num_points[x+1][y])+height_map[x-1][y+1]*np.sign(num_points[x-1][y+1])+height_map[x][y+1]*np.sign(num_points[x][y+1])+height_map[x+1][y+1]*np.sign(num_points[x+1][y+1]))/(np.sign(num_points[x-1][y-1])+np.sign(num_points[x][y-1])+np.sign(num_points[x+1][y-1])+np.sign(num_points[x-1][y])+np.sign(num_points[x+1][y])+np.sign(num_points[x-1][y+1])+np.sign(num_points[x][y+1])+np.sign(num_points[x+1][y+1]))\n",
    "            num_points[x][y] = 1\n"
   ]
  },
  {
   "cell_type": "code",
   "execution_count": 28,
   "id": "aca98fa0",
   "metadata": {},
   "outputs": [
    {
     "data": {
      "image/png": "[encoded data removed]",
      "text/plain": [
       "<Figure size 432x288 with 1 Axes>"
      ]
     },
     "metadata": {
      "needs_background": "light"
     },
     "output_type": "display_data"
    }
   ],
   "source": [
    "import matplotlib.pyplot as plt\n",
    "imgplot = plt.imshow(height_map, cmap='gray')"
   ]
  },
  {
   "cell_type": "code",
   "execution_count": 29,
   "id": "84824c38",
   "metadata": {},
   "outputs": [],
   "source": [
    "plt.imsave(\"height map 1.png\", height_map, cmap='gray')"
   ]
  },
  {
   "cell_type": "code",
   "execution_count": null,
   "id": "ed8f3576",
   "metadata": {},
   "outputs": [],
   "source": []
  }
 ],
 "metadata": {
  "kernelspec": {
   "display_name": "Python 3 (ipykernel)",
   "language": "python",
   "name": "python3"
  },
  "language_info": {
   "codemirror_mode": {
    "name": "ipython",
    "version": 3
   },
   "file_extension": ".py",
   "mimetype": "text/x-python",
   "name": "python",
   "nbconvert_exporter": "python",
   "pygments_lexer": "ipython3",
   "version": "3.7.3"
  }
 },
 "nbformat": 4,
 "nbformat_minor": 5
}
