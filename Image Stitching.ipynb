{
 "cells": [
  {
   "cell_type": "code",
   "execution_count": 2,
   "id": "46ea69fc",
   "metadata": {},
   "outputs": [],
   "source": [
    "import cv2\n",
    "\n",
    "img1_1 = cv2.imread(\"comparision_out/tile_09_v2_0_0_out.png\")\n",
    "img1_2 = cv2.imread(\"comparision_out/tile_09_v2_0_1275_out.png\")\n",
    "img1_3 = cv2.imread(\"comparision_out/tile_09_v2_0_2550_out.png\")\n",
    "img1_4 = cv2.imread(\"comparision_out/tile_09_v2_0_3825_out.png\")\n",
    "img1_5 = cv2.imread(\"comparision_out/tile_09_v2_0_5100_out.png\")\n",
    "img1_6 = cv2.imread(\"comparision_out/tile_09_v2_0_6375_out.png\")\n",
    "img1_7 = cv2.imread(\"comparision_out/tile_09_v2_0_7650_out.png\")\n",
    "img1_8 = cv2.imread(\"comparision_out/tile_09_v2_0_8925_out.png\")\n",
    "img1_9 = cv2.imread(\"comparision_out/tile_09_v2_0_10200_out.png\")\n",
    "img1_10 = cv2.imread(\"comparision_out/tile_09_v2_0_11475_out.png\")\n",
    "img1_11 = cv2.imread(\"comparision_out/tile_09_v2_0_12750_out.png\")\n",
    "img1_12 = cv2.imread(\"comparision_out/tile_09_v2_0_14025_out.png\")\n",
    "img2_1 = cv2.imread(\"comparision_out/tile_09_v2_850_0_out.png\")\n",
    "img2_2 = cv2.imread(\"comparision_out/tile_09_v2_850_1275_out.png\")\n",
    "img2_3 = cv2.imread(\"comparision_out/tile_09_v2_850_2550_out.png\")\n",
    "img2_4 = cv2.imread(\"comparision_out/tile_09_v2_850_3825_out.png\")\n",
    "img2_5 = cv2.imread(\"comparision_out/tile_09_v2_850_5100_out.png\")\n",
    "img2_6 = cv2.imread(\"comparision_out/tile_09_v2_850_6375_out.png\")\n",
    "img2_7 = cv2.imread(\"comparision_out/tile_09_v2_850_7650_out.png\")\n",
    "img2_8 = cv2.imread(\"comparision_out/tile_09_v2_850_8925_out.png\")\n",
    "img2_9 = cv2.imread(\"comparision_out/tile_09_v2_850_10200_out.png\")\n",
    "img2_10 = cv2.imread(\"comparision_out/tile_09_v2_850_11475_out.png\")\n",
    "img2_11 = cv2.imread(\"comparision_out/tile_09_v2_850_12750_out.png\")\n",
    "img2_12 = cv2.imread(\"comparision_out/tile_09_v2_850_14025_out.png\")"
   ]
  },
  {
   "cell_type": "code",
   "execution_count": 3,
   "id": "7e52c199",
   "metadata": {},
   "outputs": [],
   "source": [
    "import numpy as np\n",
    "img1 = np.hstack((img1_1, img1_2, img1_3, img1_4, img1_5, img1_6, img1_7, img1_8, img1_9, img1_10, img1_11, img1_12))\n",
    "img2 = np.hstack((img2_1, img2_2, img2_3, img2_4, img2_5, img2_6, img2_7, img2_8, img2_9, img2_10, img2_11, img2_12))\n",
    "img = np.vstack((img1, img2))"
   ]
  },
  {
   "cell_type": "code",
   "execution_count": 5,
   "id": "66b494a7",
   "metadata": {},
   "outputs": [
    {
     "data": {
      "text/plain": [
       "True"
      ]
     },
     "execution_count": 5,
     "metadata": {},
     "output_type": "execute_result"
    }
   ],
   "source": [
    "cv2.imwrite(\"stitched_out.png\", img)"
   ]
  },
  {
   "cell_type": "code",
   "execution_count": null,
   "id": "d00a4700",
   "metadata": {},
   "outputs": [],
   "source": []
  }
 ],
 "metadata": {
  "kernelspec": {
   "display_name": "Python 3 (ipykernel)",
   "language": "python",
   "name": "python3"
  },
  "language_info": {
   "codemirror_mode": {
    "name": "ipython",
    "version": 3
   },
   "file_extension": ".py",
   "mimetype": "text/x-python",
   "name": "python",
   "nbconvert_exporter": "python",
   "pygments_lexer": "ipython3",
   "version": "3.7.3"
  }
 },
 "nbformat": 4,
 "nbformat_minor": 5
}
