{
 "cells": [
  {
   "cell_type": "code",
   "execution_count": 6,
   "id": "258747e3",
   "metadata": {},
   "outputs": [],
   "source": [
    "import ifcopenshell"
   ]
  },
  {
   "cell_type": "code",
   "execution_count": 16,
   "id": "db31bcc6",
   "metadata": {},
   "outputs": [
    {
     "name": "stdout",
     "output_type": "stream",
     "text": [
      "[#54=IfcSlab('3gr4OlSxH4xhBS$bGtfP3Y',$,'textured',$,$,#514904,#514898,$,$)]\n"
     ]
    }
   ],
   "source": [
    "model = ifcopenshell.open(\"../Data/test.ifc\")\n",
    "project = model.by_type(\"IfcSlab\")\n",
    "print(project)"
   ]
  },
  {
   "cell_type": "code",
   "execution_count": 17,
   "id": "65a4c45b",
   "metadata": {},
   "outputs": [],
   "source": [
    "import uuid\n",
    "\n",
    "for i in range(2):\n",
    "    prop_set_guid = ifcopenshell.guid.compress(uuid.uuid1().hex)\n",
    "    property_values = [model.createIfcPropertySingleValue(\"Potholes\", \"Bounding boxes for potholes\", model.create_entity(\"IfcText\", \"[[(1,1), (0,0), (1,0)]]\"), None)]\n",
    "    property_set = model.createIfcPropertySet(prop_set_guid, project[0].OwnerHistory, \"RoadDefectInformation\", None, property_values)\n",
    "    rel_guid = ifcopenshell.guid.compress(uuid.uuid1().hex)\n",
    "    model.createIfcRelDefinesByProperties(rel_guid, project[0].OwnerHistory, None, None, [project[0]], property_set)\n",
    "\n",
    "model.write(\"../Data/properties_added.ifc\") "
   ]
  },
  {
   "cell_type": "code",
   "execution_count": 19,
   "id": "2d1c5d75",
   "metadata": {},
   "outputs": [
    {
     "name": "stdout",
     "output_type": "stream",
     "text": [
      "(#514907=IfcRelDefinesByProperties('0_3zmksAeHxBlTE00bqI1i',$,$,$,(#54),#514906), #514910=IfcRelDefinesByProperties('0_3zmmsAeHxAdVE00bqI1i',$,$,$,(#54),#514909))\n",
      "#514906=IfcPropertySet('0_3xL0sAeHxAhdE00bqI1i',$,'RoadDefectInformation',$,(#514905))\n",
      "(#514905=IfcPropertySingleValue('Potholes','Bounding boxes for potholes',IfcText('[[(1,1), (0,0), (1,0)]]'),$),)\n",
      "[[(1,1), (0,0), (1,0)]]\n",
      "[(1, 1), (0, 0), (1, 0)]\n",
      "(1, 1)\n",
      "#514909=IfcPropertySet('0_3zmlsAeHxB9dE00bqI1i',$,'RoadDefectInformation',$,(#514908))\n",
      "(#514908=IfcPropertySingleValue('Potholes','Bounding boxes for potholes',IfcText('[[(1,1), (0,0), (1,0)]]'),$),)\n",
      "[[(1,1), (0,0), (1,0)]]\n",
      "[(1, 1), (0, 0), (1, 0)]\n",
      "(1, 1)\n"
     ]
    }
   ],
   "source": [
    "import ast\n",
    "model = ifcopenshell.open(\"../Data/properties_added.ifc\")\n",
    "project = model.by_type(\"IfcSlab\")\n",
    "\n",
    "for product in project:\n",
    "    definitions = product.IsDefinedBy\n",
    "    print(definitions)\n",
    "    for definition in definitions:\n",
    "        property_definition = definition.RelatingPropertyDefinition\n",
    "        print(property_definition)\n",
    "        print(property_definition.HasProperties)\n",
    "        print(property_definition.HasProperties[0].NominalValue[0])\n",
    "        # list_of_bounding_boxes = property_definition.HasProperties[0].NominalValue[0].strip(\"[]\").split(\", \")\n",
    "        list_of_bounding_boxes = ast.literal_eval(property_definition.HasProperties[0].NominalValue[0])\n",
    "        print(list_of_bounding_boxes[0])\n",
    "        # print(list_of_bounding_boxes[0].strip(\"()\").split(\",\"))\n",
    "        print(list_of_bounding_boxes[0][0])"
   ]
  },
  {
   "cell_type": "code",
   "execution_count": null,
   "id": "09569490",
   "metadata": {},
   "outputs": [],
   "source": []
  }
 ],
 "metadata": {
  "kernelspec": {
   "display_name": "Python 3 (ipykernel)",
   "language": "python",
   "name": "python3"
  },
  "language_info": {
   "codemirror_mode": {
    "name": "ipython",
    "version": 3
   },
   "file_extension": ".py",
   "mimetype": "text/x-python",
   "name": "python",
   "nbconvert_exporter": "python",
   "pygments_lexer": "ipython3",
   "version": "3.7.3"
  }
 },
 "nbformat": 4,
 "nbformat_minor": 5
}
