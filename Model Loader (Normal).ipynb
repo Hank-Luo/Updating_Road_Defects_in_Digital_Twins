{
 "cells": [
  {
   "cell_type": "code",
   "execution_count": 1,
   "id": "2d7044cf",
   "metadata": {},
   "outputs": [
    {
     "name": "stdout",
     "output_type": "stream",
     "text": [
      "torch:  1.10 ; cuda:  1.10.0\n"
     ]
    }
   ],
   "source": [
    "import torch\n",
    "TORCH_VERSION = \".\".join(torch.__version__.split(\".\")[:2])\n",
    "CUDA_VERSION = torch.__version__.split(\"+\")[-1]\n",
    "print(\"torch: \", TORCH_VERSION, \"; cuda: \", CUDA_VERSION)"
   ]
  },
  {
   "cell_type": "code",
   "execution_count": 2,
   "id": "25dfb806",
   "metadata": {},
   "outputs": [],
   "source": [
    "import detectron2\n",
    "from detectron2.utils.logger import setup_logger\n",
    "setup_logger()\n",
    "\n",
    "# import some common libraries\n",
    "import numpy as np\n",
    "import os, json, cv2, random\n",
    "\n",
    "# import some common detectron2 utilities\n",
    "from detectron2 import model_zoo\n",
    "from detectron2.engine import DefaultPredictor\n",
    "from detectron2.config import get_cfg\n",
    "from detectron2.utils.visualizer import Visualizer\n",
    "from detectron2.data import MetadataCatalog, DatasetCatalog"
   ]
  },
  {
   "cell_type": "code",
   "execution_count": 3,
   "id": "4a87bcc5",
   "metadata": {},
   "outputs": [
    {
     "name": "stdout",
     "output_type": "stream",
     "text": [
      "[05/28 08:42:12 d2.data.datasets.coco]: Loaded 269 images in COCO format from instances_default.json\n"
     ]
    }
   ],
   "source": [
    "from detectron2.data.datasets import register_coco_instances\n",
    "\n",
    "register_coco_instances(\"road_defect_detection_train\", {}, \"instances_default.json\", \"training_images\")\n",
    "register_coco_instances(\"road_defect_detection_val\", {}, \"cropped_images/09_labelled/annotations/instances_default.json\", \"cropped_images/09_labelled/images\")\n",
    "\n",
    "my_dataset_train_metadata = MetadataCatalog.get(\"road_defect_detection_train\")\n",
    "dataset_dicts = DatasetCatalog.get(\"road_defect_detection_train\")"
   ]
  },
  {
   "cell_type": "code",
   "execution_count": 4,
   "id": "414923bb",
   "metadata": {},
   "outputs": [],
   "source": [
    "cfg = get_cfg()\n",
    "cfg.merge_from_file(model_zoo.get_config_file(\"COCO-InstanceSegmentation/mask_rcnn_R_50_FPN_3x.yaml\"))\n",
    "cfg.MODEL.ROI_HEADS.NUM_CLASSES = 8\n",
    "cfg.MODEL.WEIGHTS = 'model_final.pth'\n",
    "cfg.DATASETS.TRAIN = (\"road_defect_detection_train\",)\n",
    "cfg.MODEL.ROI_HEADS.SCORE_THRESH_TEST = 0.7\n",
    "predictor = DefaultPredictor(cfg)"
   ]
  },
  {
   "cell_type": "code",
   "execution_count": 6,
   "id": "643fd5af",
   "metadata": {},
   "outputs": [
    {
     "name": "stdout",
     "output_type": "stream",
     "text": [
      "cropped_images/09_labelled/images\\tile_09_v2_0_0.png\n",
      "cropped_images/09_labelled/images\\tile_09_v2_0_10200.png\n",
      "cropped_images/09_labelled/images\\tile_09_v2_0_11475.png\n",
      "cropped_images/09_labelled/images\\tile_09_v2_0_1275.png\n",
      "cropped_images/09_labelled/images\\tile_09_v2_0_12750.png\n",
      "cropped_images/09_labelled/images\\tile_09_v2_0_14025.png\n",
      "cropped_images/09_labelled/images\\tile_09_v2_0_2550.png\n",
      "cropped_images/09_labelled/images\\tile_09_v2_0_3825.png\n",
      "cropped_images/09_labelled/images\\tile_09_v2_0_5100.png\n",
      "cropped_images/09_labelled/images\\tile_09_v2_0_6375.png\n",
      "cropped_images/09_labelled/images\\tile_09_v2_0_7650.png\n",
      "cropped_images/09_labelled/images\\tile_09_v2_0_8925.png\n",
      "cropped_images/09_labelled/images\\tile_09_v2_850_0.png\n",
      "cropped_images/09_labelled/images\\tile_09_v2_850_10200.png\n",
      "cropped_images/09_labelled/images\\tile_09_v2_850_11475.png\n",
      "cropped_images/09_labelled/images\\tile_09_v2_850_1275.png\n",
      "cropped_images/09_labelled/images\\tile_09_v2_850_12750.png\n",
      "cropped_images/09_labelled/images\\tile_09_v2_850_14025.png\n",
      "cropped_images/09_labelled/images\\tile_09_v2_850_2550.png\n",
      "cropped_images/09_labelled/images\\tile_09_v2_850_3825.png\n",
      "cropped_images/09_labelled/images\\tile_09_v2_850_5100.png\n",
      "cropped_images/09_labelled/images\\tile_09_v2_850_6375.png\n",
      "cropped_images/09_labelled/images\\tile_09_v2_850_7650.png\n",
      "cropped_images/09_labelled/images\\tile_09_v2_850_8925.png\n"
     ]
    }
   ],
   "source": [
    "from detectron2.utils.visualizer import ColorMode\n",
    "# import matplotlib.pyplot as plt\n",
    "test_path = \"cropped_images/09_labelled/images\"\n",
    "\n",
    "for filename in os.listdir(test_path):\n",
    "    f = os.path.join(test_path, filename)\n",
    "    print(f)\n",
    "    im = cv2.imread(f)\n",
    "    outputs = predictor(im)\n",
    "    v = Visualizer(im[:, :, ::-1], MetadataCatalog.get(cfg.DATASETS.TRAIN[0]), scale=1.2)\n",
    "    v = v.draw_instance_predictions(outputs[\"instances\"].to(\"cpu\"))\n",
    "    out_filename = filename[:-4] + \"_out.png\"\n",
    "    cv2.imwrite(out_filename, v.get_image()[:, :, ::-1])"
   ]
  },
  {
   "cell_type": "code",
   "execution_count": 5,
   "id": "207b8878",
   "metadata": {},
   "outputs": [
    {
     "name": "stdout",
     "output_type": "stream",
     "text": [
      "[05/28 08:42:59 d2.data.datasets.coco]: Loaded 24 images in COCO format from cropped_images/09_labelled/annotations/instances_default.json\n",
      "[05/28 08:42:59 d2.data.build]: Distribution of instances among all 8 categories:\n",
      "|  category  | #instances   |   category    | #instances   |   category    | #instances   |\n",
      "|:----------:|:-------------|:-------------:|:-------------|:-------------:|:-------------|\n",
      "|   Cracks   | 31           |   Potholes    | 33           |    Patches    | 0            |\n",
      "|  Sidewalk  | 0            | White Road .. | 0            | Double Yell.. | 0            |\n",
      "|    Car     | 0            | Alligator C.. | 4            |               |              |\n",
      "|   total    | 68           |               |              |               |              |\n",
      "[05/28 08:42:59 d2.data.dataset_mapper]: [DatasetMapper] Augmentations used in inference: [ResizeShortestEdge(short_edge_length=(800, 800), max_size=1333, sample_style='choice')]\n",
      "[05/28 08:42:59 d2.data.common]: Serializing 24 elements to byte tensors and concatenating them all ...\n",
      "[05/28 08:42:59 d2.data.common]: Serialized dataset takes 0.02 MiB\n",
      "[05/28 08:42:59 d2.evaluation.evaluator]: Start inference on 24 batches\n"
     ]
    },
    {
     "name": "stderr",
     "output_type": "stream",
     "text": [
      "C:\\Users\\luope\\Anaconda3\\lib\\site-packages\\torch\\functional.py:445: UserWarning: torch.meshgrid: in an upcoming release, it will be required to pass the indexing argument. (Triggered internally at  ..\\aten\\src\\ATen\\native\\TensorShape.cpp:2157.)\n",
      "  return _VF.meshgrid(tensors, **kwargs)  # type: ignore[attr-defined]\n"
     ]
    },
    {
     "name": "stdout",
     "output_type": "stream",
     "text": [
      "[05/28 08:43:15 d2.evaluation.evaluator]: Inference done 11/24. Dataloading: 0.0005 s/iter. Inference: 0.2280 s/iter. Eval: 0.0071 s/iter. Total: 0.2355 s/iter. ETA=0:00:03\n",
      "[05/28 08:43:18 d2.evaluation.evaluator]: Total inference time: 0:00:05.086842 (0.267729 s / iter per device, on 1 devices)\n",
      "[05/28 08:43:18 d2.evaluation.evaluator]: Total inference pure compute time: 0:00:04 (0.243190 s / iter per device, on 1 devices)\n",
      "[05/28 08:43:18 d2.evaluation.coco_evaluation]: Preparing results for COCO format ...\n",
      "[05/28 08:43:18 d2.evaluation.coco_evaluation]: Saving results to ./output\\coco_instances_results.json\n",
      "[05/28 08:43:18 d2.evaluation.coco_evaluation]: Evaluating predictions with unofficial COCO API...\n",
      "Loading and preparing results...\n",
      "DONE (t=0.00s)\n",
      "creating index...\n",
      "index created!\n",
      "[05/28 08:43:18 d2.evaluation.fast_eval_api]: Evaluate annotation type *bbox*\n",
      "[05/28 08:43:18 d2.evaluation.fast_eval_api]: COCOeval_opt.evaluate() finished in 0.01 seconds.\n",
      "[05/28 08:43:18 d2.evaluation.fast_eval_api]: Accumulating evaluation results...\n",
      "[05/28 08:43:18 d2.evaluation.fast_eval_api]: COCOeval_opt.accumulate() finished in 0.03 seconds.\n",
      " Average Precision  (AP) @[ IoU=0.50:0.95 | area=   all | maxDets=100 ] = 0.071\n",
      " Average Precision  (AP) @[ IoU=0.50      | area=   all | maxDets=100 ] = 0.203\n",
      " Average Precision  (AP) @[ IoU=0.75      | area=   all | maxDets=100 ] = 0.012\n",
      " Average Precision  (AP) @[ IoU=0.50:0.95 | area= small | maxDets=100 ] = 0.000\n",
      " Average Precision  (AP) @[ IoU=0.50:0.95 | area=medium | maxDets=100 ] = 0.063\n",
      " Average Precision  (AP) @[ IoU=0.50:0.95 | area= large | maxDets=100 ] = 0.144\n",
      " Average Recall     (AR) @[ IoU=0.50:0.95 | area=   all | maxDets=  1 ] = 0.093\n",
      " Average Recall     (AR) @[ IoU=0.50:0.95 | area=   all | maxDets= 10 ] = 0.161\n",
      " Average Recall     (AR) @[ IoU=0.50:0.95 | area=   all | maxDets=100 ] = 0.161\n",
      " Average Recall     (AR) @[ IoU=0.50:0.95 | area= small | maxDets=100 ] = 0.000\n",
      " Average Recall     (AR) @[ IoU=0.50:0.95 | area=medium | maxDets=100 ] = 0.151\n",
      " Average Recall     (AR) @[ IoU=0.50:0.95 | area= large | maxDets=100 ] = 0.175\n",
      "[05/28 08:43:18 d2.evaluation.coco_evaluation]: Evaluation results for bbox: \n",
      "|  AP   |  AP50  |  AP75  |  APs  |  APm  |  APl   |\n",
      "|:-----:|:------:|:------:|:-----:|:-----:|:------:|\n",
      "| 7.064 | 20.335 | 1.164  | 0.000 | 6.335 | 14.356 |\n",
      "[05/28 08:43:18 d2.evaluation.coco_evaluation]: Per-category bbox AP: \n",
      "| category   | AP    | category            | AP     | category           | AP   |\n",
      "|:-----------|:------|:--------------------|:-------|:-------------------|:-----|\n",
      "| Cracks     | 3.789 | Potholes            | 3.080  | Patches            | nan  |\n",
      "| Sidewalk   | nan   | White Road Markings | nan    | Double Yellow line | nan  |\n",
      "| Car        | nan   | Alligator Cracks    | 14.323 |                    |      |\n",
      "Loading and preparing results...\n",
      "DONE (t=0.00s)\n",
      "creating index...\n",
      "index created!\n",
      "[05/28 08:43:18 d2.evaluation.fast_eval_api]: Evaluate annotation type *segm*\n",
      "[05/28 08:43:19 d2.evaluation.fast_eval_api]: COCOeval_opt.evaluate() finished in 0.01 seconds.\n",
      "[05/28 08:43:19 d2.evaluation.fast_eval_api]: Accumulating evaluation results...\n",
      "[05/28 08:43:19 d2.evaluation.fast_eval_api]: COCOeval_opt.accumulate() finished in 0.03 seconds.\n",
      " Average Precision  (AP) @[ IoU=0.50:0.95 | area=   all | maxDets=100 ] = 0.042\n",
      " Average Precision  (AP) @[ IoU=0.50      | area=   all | maxDets=100 ] = 0.155\n",
      " Average Precision  (AP) @[ IoU=0.75      | area=   all | maxDets=100 ] = 0.006\n",
      " Average Precision  (AP) @[ IoU=0.50:0.95 | area= small | maxDets=100 ] = 0.000\n",
      " Average Precision  (AP) @[ IoU=0.50:0.95 | area=medium | maxDets=100 ] = 0.064\n",
      " Average Precision  (AP) @[ IoU=0.50:0.95 | area= large | maxDets=100 ] = 0.118\n",
      " Average Recall     (AR) @[ IoU=0.50:0.95 | area=   all | maxDets=  1 ] = 0.053\n",
      " Average Recall     (AR) @[ IoU=0.50:0.95 | area=   all | maxDets= 10 ] = 0.110\n",
      " Average Recall     (AR) @[ IoU=0.50:0.95 | area=   all | maxDets=100 ] = 0.110\n",
      " Average Recall     (AR) @[ IoU=0.50:0.95 | area= small | maxDets=100 ] = 0.000\n",
      " Average Recall     (AR) @[ IoU=0.50:0.95 | area=medium | maxDets=100 ] = 0.108\n",
      " Average Recall     (AR) @[ IoU=0.50:0.95 | area= large | maxDets=100 ] = 0.150\n",
      "[05/28 08:43:19 d2.evaluation.coco_evaluation]: Evaluation results for segm: \n",
      "|  AP   |  AP50  |  AP75  |  APs  |  APm  |  APl   |\n",
      "|:-----:|:------:|:------:|:-----:|:-----:|:------:|\n",
      "| 4.165 | 15.522 | 0.627  | 0.000 | 6.355 | 11.848 |\n",
      "[05/28 08:43:19 d2.evaluation.coco_evaluation]: Per-category segm AP: \n",
      "| category   | AP    | category            | AP    | category           | AP   |\n",
      "|:-----------|:------|:--------------------|:------|:-------------------|:-----|\n",
      "| Cracks     | 3.697 | Potholes            | 2.461 | Patches            | nan  |\n",
      "| Sidewalk   | nan   | White Road Markings | nan   | Double Yellow line | nan  |\n",
      "| Car        | nan   | Alligator Cracks    | 6.337 |                    |      |\n",
      "OrderedDict([('bbox', {'AP': 7.064031297876812, 'AP50': 20.335178679158236, 'AP75': 1.1637745483693795, 'APs': 0.0, 'APm': 6.335080065860497, 'APl': 14.356435643564355, 'AP-Cracks': 3.7888185271616406, 'AP-Potholes': 3.0798430232344702, 'AP-Patches': nan, 'AP-Sidewalk': nan, 'AP-White Road Markings': nan, 'AP-Double Yellow line': nan, 'AP-Car': nan, 'AP-Alligator Cracks': 14.323432343234325}), ('segm', {'AP': 4.1650111797973155, 'AP50': 15.522197381028423, 'AP75': 0.626773203636153, 'APs': 0.0, 'APm': 6.3553399295973545, 'APl': 11.848184818481847, 'AP-Cracks': 3.6973136672935025, 'AP-Potholes': 2.4610862087321084, 'AP-Patches': nan, 'AP-Sidewalk': nan, 'AP-White Road Markings': nan, 'AP-Double Yellow line': nan, 'AP-Car': nan, 'AP-Alligator Cracks': 6.336633663366337})])\n"
     ]
    }
   ],
   "source": [
    "from detectron2.evaluation import COCOEvaluator, inference_on_dataset\n",
    "from detectron2.data import build_detection_test_loader\n",
    "evaluator = COCOEvaluator(\"road_defect_detection_val\", output_dir=\"./output\")\n",
    "val_loader = build_detection_test_loader(cfg, \"road_defect_detection_val\")\n",
    "print(inference_on_dataset(predictor.model, val_loader, evaluator))\n",
    "# another equivalent way to evaluate the model is to use `trainer.test`"
   ]
  },
  {
   "cell_type": "code",
   "execution_count": null,
   "id": "4be6c9f4",
   "metadata": {},
   "outputs": [],
   "source": []
  }
 ],
 "metadata": {
  "kernelspec": {
   "display_name": "Python 3 (ipykernel)",
   "language": "python",
   "name": "python3"
  },
  "language_info": {
   "codemirror_mode": {
    "name": "ipython",
    "version": 3
   },
   "file_extension": ".py",
   "mimetype": "text/x-python",
   "name": "python",
   "nbconvert_exporter": "python",
   "pygments_lexer": "ipython3",
   "version": "3.7.3"
  }
 },
 "nbformat": 4,
 "nbformat_minor": 5
}
