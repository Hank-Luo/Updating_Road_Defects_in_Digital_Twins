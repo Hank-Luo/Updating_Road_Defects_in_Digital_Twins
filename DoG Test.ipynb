{
 "cells": [
  {
   "cell_type": "code",
   "execution_count": null,
   "id": "4fbe503c",
   "metadata": {},
   "outputs": [],
   "source": [
    "import cv2\n",
    "import numpy as np\n",
    "\n",
    "fn = raw_input(\"Enter image file name and path: \")\n",
    "fn_no_ext = fn.split('.')[0]\n",
    "outputFile = fn_no_ext+'DoG.jpg'\n",
    "#read the input file\n",
    "img = cv2.imread(str(fn))\n",
    "\n",
    "#run a 5x5 gaussian blur then a 3x3 gaussian blr\n",
    "blur5 = cv2.GaussianBlur(img,(5,5),0)\n",
    "blur3 = cv2.GaussianBlur(img,(3,3),0)\n",
    "\n",
    "#write the results of the previous step to new files\n",
    "cv2.imwrite(fn_no_ext+'3x3.jpg', blur3)\n",
    "cv2.imwrite(fn_no_ext+'5x5.jpg', blur5)\n",
    "\n",
    "DoGim = blur5 - blur3\n",
    "cv2.imwrite(outputFile, DoGim)"
   ]
  },
  {
   "cell_type": "code",
   "execution_count": 22,
   "id": "442c8a17",
   "metadata": {},
   "outputs": [
    {
     "data": {
      "text/plain": [
       "True"
      ]
     },
     "execution_count": 22,
     "metadata": {},
     "output_type": "execute_result"
    }
   ],
   "source": [
    "import cv2\n",
    "\n",
    "img = cv2.imread(\"depth_image.png\")\n",
    "\n",
    "blur7 = cv2.GaussianBlur(img,(0,0),2,2)\n",
    "blur5 = cv2.GaussianBlur(img,(0,0),1,1)\n",
    "\n",
    "DoGim = blur7 - blur5\n",
    "# print(DoGim)\n",
    "cv2.imwrite(\"DoG.png\", DoGim)"
   ]
  },
  {
   "cell_type": "code",
   "execution_count": 21,
   "id": "6ec7bdd8",
   "metadata": {},
   "outputs": [
    {
     "data": {
      "text/plain": [
       "True"
      ]
     },
     "execution_count": 21,
     "metadata": {},
     "output_type": "execute_result"
    }
   ],
   "source": [
    "ret,thresh = cv2.threshold(DoGim,254,255,cv2.THRESH_BINARY)\n",
    "cv2.imwrite(\"DoG_thresh.png\", thresh)"
   ]
  },
  {
   "cell_type": "code",
   "execution_count": 19,
   "id": "dd4482de",
   "metadata": {},
   "outputs": [
    {
     "data": {
      "text/plain": [
       "True"
      ]
     },
     "execution_count": 19,
     "metadata": {},
     "output_type": "execute_result"
    }
   ],
   "source": [
    "img = cv2.imread(\"depth_image_new.png\")\n",
    "\n",
    "blur = cv2.GaussianBlur(img,(0,0),0.1,0.1)\n",
    "\n",
    "edge_x = cv2.Sobel(blur, cv2.CV_64F, 1, 0, 1)\n",
    "edge = cv2.Sobel(edge_x, cv2.CV_64F, 0, 1, 1)\n",
    "\n",
    "cv2.imwrite(\"edge.png\", edge_x)"
   ]
  },
  {
   "cell_type": "code",
   "execution_count": 27,
   "id": "f9554a80",
   "metadata": {},
   "outputs": [
    {
     "data": {
      "image/png": "[encoded data removed]",
      "text/plain": [
       "<Figure size 432x288 with 2 Axes>"
      ]
     },
     "metadata": {},
     "output_type": "display_data"
    }
   ],
   "source": [
    "import numpy as np\n",
    "import matplotlib.pyplot as plt\n",
    "\n",
    "img = cv2.imread(\"depth_image_new.png\",0)\n",
    "\n",
    "dft = cv2.dft(np.float32(img),flags = cv2.DFT_COMPLEX_OUTPUT)\n",
    "dft_shift = np.fft.fftshift(dft)\n",
    "\n",
    "magnitude_spectrum = 20*np.log(cv2.magnitude(dft_shift[:,:,0],dft_shift[:,:,1]))\n",
    "\n",
    "plt.subplot(121),plt.imshow(img, cmap = 'gray')\n",
    "plt.title('Input Image'), plt.xticks([]), plt.yticks([])\n",
    "plt.subplot(122),plt.imshow(magnitude_spectrum, cmap = 'gray')\n",
    "cv2.imwrite(\"dft.png\", magnitude_spectrum)\n",
    "plt.title('Magnitude Spectrum'), plt.xticks([]), plt.yticks([])\n",
    "plt.show()"
   ]
  },
  {
   "cell_type": "code",
   "execution_count": 30,
   "id": "3ce2a89b",
   "metadata": {},
   "outputs": [
    {
     "data": {
      "image/png": "[encoded data removed]",
      "text/plain": [
       "<Figure size 432x288 with 2 Axes>"
      ]
     },
     "metadata": {},
     "output_type": "display_data"
    }
   ],
   "source": [
    "rows, cols = img.shape\n",
    "crow,ccol = rows//2 , cols//2\n",
    "\n",
    "# create a mask first, center square is 1, remaining all zeros\n",
    "mask = np.ones((rows,cols,2),np.uint8)\n",
    "mask[crow-30:crow+30, ccol-30:ccol+30] = 0\n",
    "\n",
    "# apply mask and inverse DFT\n",
    "fshift = dft_shift*mask\n",
    "f_ishift = np.fft.ifftshift(fshift)\n",
    "img_back = cv2.idft(f_ishift)\n",
    "img_back = cv2.magnitude(img_back[:,:,0],img_back[:,:,1])\n",
    "\n",
    "plt.subplot(121),plt.imshow(img, cmap = 'gray')\n",
    "plt.title('Input Image'), plt.xticks([]), plt.yticks([])\n",
    "plt.subplot(122),plt.imshow(img_back, cmap = 'gray')\n",
    "cv2.imwrite(\"idft.png\", img_back)\n",
    "plt.title('Magnitude Spectrum'), plt.xticks([]), plt.yticks([])\n",
    "plt.show()"
   ]
  },
  {
   "cell_type": "code",
   "execution_count": null,
   "id": "14fd1def",
   "metadata": {},
   "outputs": [],
   "source": []
  }
 ],
 "metadata": {
  "kernelspec": {
   "display_name": "Python 3 (ipykernel)",
   "language": "python",
   "name": "python3"
  },
  "language_info": {
   "codemirror_mode": {
    "name": "ipython",
    "version": 3
   },
   "file_extension": ".py",
   "mimetype": "text/x-python",
   "name": "python",
   "nbconvert_exporter": "python",
   "pygments_lexer": "ipython3",
   "version": "3.7.3"
  }
 },
 "nbformat": 4,
 "nbformat_minor": 5
}
