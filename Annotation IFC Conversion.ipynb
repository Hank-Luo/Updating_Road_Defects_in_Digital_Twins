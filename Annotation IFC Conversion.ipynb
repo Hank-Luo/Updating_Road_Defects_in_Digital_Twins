{
 "cells": [
  {
   "cell_type": "code",
   "execution_count": 52,
   "id": "4b5adabf",
   "metadata": {},
   "outputs": [],
   "source": [
    "import json\n",
    "import cv2\n",
    "# import matplotlib.pyplot as plt\n",
    "# from shapely.geometry import Polygon\n",
    "\n",
    "with open(\"cropped_images/09_labelled/annotations/instances_default.json\", \"r\") as read_file:\n",
    "    instances = json.load(read_file)\n",
    "\n",
    "full_img = cv2.imread(\"cropped_images/feb09_ps_actual.png\")"
   ]
  },
  {
   "cell_type": "code",
   "execution_count": 73,
   "id": "ed5daa8d",
   "metadata": {},
   "outputs": [],
   "source": [
    "i = 1\n",
    "new_instances = {\"licenses\": [{\"name\": \"\", \"id\": 0, \"url\": \"\"}], \"info\": {\"contributor\": \"\", \"date_created\": \"\", \"description\": \"\", \"url\": \"\", \"version\": \"\", \"year\": \"\"}, \"categories\": [{\"id\": 1, \"name\": \"Cracks\", \"supercategory\": \"\"}, {\"id\": 2, \"name\": \"Potholes\", \"supercategory\": \"\"}, {\"id\": 3, \"name\": \"Patches\", \"supercategory\": \"\"}, {\"id\": 4, \"name\": \"Sidewalk\", \"supercategory\": \"\"}, {\"id\": 5, \"name\": \"White Road Markings\", \"supercategory\": \"\"}, {\"id\": 6, \"name\": \"Double Yellow line\", \"supercategory\": \"\"}, {\"id\": 7, \"name\": \"Car\", \"supercategory\": \"\"}, {\"id\": 8, \"name\": \"Alligator Cracks\", \"supercategory\": \"\"}], \"images\": [], \"annotations\": []}\n",
    "\n",
    "for annotation in instances[\"annotations\"]:\n",
    "    origin = (int(instances[\"images\"][annotation[\"image_id\"]-1][\"file_name\"][:-4].split(\"_\")[4]), int(instances[\"images\"][annotation[\"image_id\"]-1][\"file_name\"][:-4].split(\"_\")[3]))\n",
    "    defect_type = instances[\"categories\"][annotation[\"category_id\"]-1][\"name\"]\n",
    "    defect_id = annotation[\"category_id\"]\n",
    "    segmentation = list(zip(*(iter(annotation[\"segmentation\"][0]),) * 2))\n",
    "    transformed_segmentation = [((point[0]*100+origin[0]*100)/100, (point[1]*100+origin[1]*100)/100) for point in segmentation]\n",
    "    bounding_box = annotation[\"bbox\"]\n",
    "    transformed_bounding_box = bounding_box.copy()\n",
    "    transformed_bounding_box[0] = (transformed_bounding_box[0]*100 + origin[0]*100)/100\n",
    "    transformed_bounding_box[1] = (transformed_bounding_box[1]*100 + origin[1]*100)/100\n",
    "    new_bbox_left = max(0, int(transformed_bounding_box[0]) - 100)\n",
    "    new_bbox_right = min(14910, int(transformed_bounding_box[0]+transformed_bounding_box[2]) + 100)\n",
    "    new_bbox_top = max(0, int(transformed_bounding_box[1]) - 100)\n",
    "    new_bbox_bottom = min(1575, int(transformed_bounding_box[1]+transformed_bounding_box[3]) + 100)\n",
    "    new_segmentation_points = [(round(point[0]*100-new_bbox_left*100)/100, round(point[1]*100-new_bbox_top*100)/100) for point in transformed_segmentation]\n",
    "    new_segmentation = [coordinate for point in new_segmentation_points for coordinate in point]\n",
    "    crop_img = full_img[new_bbox_top:new_bbox_bottom, new_bbox_left:new_bbox_right]\n",
    "    filename = \"cropped_\" + str(i) + \".png\"\n",
    "    new_instances[\"images\"].append({\"id\": i, \"width\": new_bbox_right-new_bbox_left, \"height\": new_bbox_bottom-new_bbox_top, \"file_name\": filename, \"license\": 0, \"flickr_url\": \"\", \"coco_url\": \"\", \"date_captured\": 0})\n",
    "    new_instances[\"annotations\"].append({\"id\": i, \"image_id\": i, \"category_id\": defect_id, \"segmentation\": [new_segmentation], \"area\": annotation[\"area\"], \"bbox\": [round(transformed_bounding_box[0]*100-new_bbox_left*100)/100, round(transformed_bounding_box[1]*100-new_bbox_top*100)/100, annotation[\"bbox\"][2], annotation[\"bbox\"][3]], \"iscrowd\": 0, \"attributes\": {\"occluded\": False}})\n",
    "    cv2.imwrite(filename, crop_img)\n",
    "    i += 1\n",
    "\n",
    "with open(\"new_instances.json\", \"w\") as outfile:\n",
    "    json.dump(new_instances, outfile)"
   ]
  },
  {
   "cell_type": "code",
   "execution_count": null,
   "id": "62173128",
   "metadata": {},
   "outputs": [],
   "source": []
  }
 ],
 "metadata": {
  "kernelspec": {
   "display_name": "Python 3 (ipykernel)",
   "language": "python",
   "name": "python3"
  },
  "language_info": {
   "codemirror_mode": {
    "name": "ipython",
    "version": 3
   },
   "file_extension": ".py",
   "mimetype": "text/x-python",
   "name": "python",
   "nbconvert_exporter": "python",
   "pygments_lexer": "ipython3",
   "version": "3.7.3"
  }
 },
 "nbformat": 4,
 "nbformat_minor": 5
}
